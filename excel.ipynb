{
  "nbformat": 4,
  "nbformat_minor": 0,
  "metadata": {
    "colab": {
      "provenance": [],
      "authorship_tag": "ABX9TyMQB/x/63I2MuVfufrtYUHh",
      "include_colab_link": true
    },
    "kernelspec": {
      "name": "python3",
      "display_name": "Python 3"
    },
    "language_info": {
      "name": "python"
    }
  },
  "cells": [
    {
      "cell_type": "markdown",
      "metadata": {
        "id": "view-in-github",
        "colab_type": "text"
      },
      "source": [
        "<a href=\"https://colab.research.google.com/github/GeniusClown/5semProg/blob/main/excel.ipynb\" target=\"_parent\"><img src=\"https://colab.research.google.com/assets/colab-badge.svg\" alt=\"Open In Colab\"/></a>"
      ]
    },
    {
      "cell_type": "code",
      "execution_count": null,
      "metadata": {
        "colab": {
          "base_uri": "https://localhost:8080/"
        },
        "id": "DFebH1q-iHc9",
        "outputId": "f49f8679-8991-42c3-e678-fccc36ba75d6"
      },
      "outputs": [
        {
          "output_type": "stream",
          "name": "stdout",
          "text": [
            "Mounted at /content/gdrive\n"
          ]
        }
      ],
      "source": [
        "from google.colab import drive\n",
        "drive.mount(\"/content/gdrive\")\n"
      ]
    },
    {
      "cell_type": "code",
      "source": [
        "!pip install opencv-python"
      ],
      "metadata": {
        "colab": {
          "base_uri": "https://localhost:8080/"
        },
        "id": "Em1gavLSiLc0",
        "outputId": "7bc1c9a1-06e2-4fb3-8021-a0a43694b0be"
      },
      "execution_count": null,
      "outputs": [
        {
          "output_type": "stream",
          "name": "stdout",
          "text": [
            "Looking in indexes: https://pypi.org/simple, https://us-python.pkg.dev/colab-wheels/public/simple/\n",
            "Requirement already satisfied: opencv-python in /usr/local/lib/python3.7/dist-packages (4.6.0.66)\n",
            "Requirement already satisfied: numpy>=1.14.5 in /usr/local/lib/python3.7/dist-packages (from opencv-python) (1.21.6)\n"
          ]
        }
      ]
    },
    {
      "cell_type": "code",
      "source": [
        "!pip install pytesseract"
      ],
      "metadata": {
        "colab": {
          "base_uri": "https://localhost:8080/",
          "height": 346
        },
        "id": "j40PyeDxiQPE",
        "outputId": "d014c82b-9b5c-44ea-9fa1-6a9b1b1fb119"
      },
      "execution_count": null,
      "outputs": [
        {
          "output_type": "stream",
          "name": "stdout",
          "text": [
            "Looking in indexes: https://pypi.org/simple, https://us-python.pkg.dev/colab-wheels/public/simple/\n",
            "Collecting pytesseract\n",
            "  Downloading pytesseract-0.3.10-py3-none-any.whl (14 kB)\n",
            "Collecting Pillow>=8.0.0\n",
            "  Downloading Pillow-9.3.0-cp37-cp37m-manylinux_2_17_x86_64.manylinux2014_x86_64.whl (3.2 MB)\n",
            "\u001b[K     |████████████████████████████████| 3.2 MB 4.6 MB/s \n",
            "\u001b[?25hRequirement already satisfied: packaging>=21.3 in /usr/local/lib/python3.7/dist-packages (from pytesseract) (21.3)\n",
            "Requirement already satisfied: pyparsing!=3.0.5,>=2.0.2 in /usr/local/lib/python3.7/dist-packages (from packaging>=21.3->pytesseract) (3.0.9)\n",
            "Installing collected packages: Pillow, pytesseract\n",
            "  Attempting uninstall: Pillow\n",
            "    Found existing installation: Pillow 7.1.2\n",
            "    Uninstalling Pillow-7.1.2:\n",
            "      Successfully uninstalled Pillow-7.1.2\n",
            "Successfully installed Pillow-9.3.0 pytesseract-0.3.10\n"
          ]
        },
        {
          "output_type": "display_data",
          "data": {
            "application/vnd.colab-display-data+json": {
              "pip_warning": {
                "packages": [
                  "PIL"
                ]
              }
            }
          },
          "metadata": {}
        }
      ]
    },
    {
      "cell_type": "code",
      "source": [
        "import os\n",
        "\n",
        "video_path = 'video.mp4'\n",
        "tesseract_path = 'tesseract-ocr-tesseract-8ed8a3f'\n",
        "os.environ[\"PATH\"] += os.pathsep + tesseract_path\n",
        "\n",
        "import pytesseract\n",
        "import cv2\n",
        "import imutils\n",
        "import pandas as pd\n",
        "import datetime as dt"
      ],
      "metadata": {
        "id": "zLmq4yzeiQVZ"
      },
      "execution_count": null,
      "outputs": []
    },
    {
      "cell_type": "code",
      "source": [
        "df = pd.DataFrame(columns = ['Время', 'Клиент в кадре'])\n",
        "work_place = () #Область, где сидит клиент\n",
        "date = None #Область на видео с временем и датой\n",
        "tracked = True #Состояние отслеживания"
      ],
      "metadata": {
        "id": "olibAUXHiQbh"
      },
      "execution_count": null,
      "outputs": []
    },
    {
      "cell_type": "code",
      "source": [
        "prototxt = 'MobileNetSSD_deploy.prototxt' #Модель\n",
        "weights = 'MobileNetSSD_deploy.caffemodel' #Веса"
      ],
      "metadata": {
        "id": "39wVYxMKiQfH"
      },
      "execution_count": null,
      "outputs": []
    },
    {
      "cell_type": "code",
      "source": [
        "classNames = {0: 'background',\n",
        "              1: 'aeroplane',\n",
        "              2: 'bicycle',\n",
        "              3: 'bird',\n",
        "              4: 'boat',\n",
        "              5: 'bottle',\n",
        "              6: 'bus',\n",
        "              7: 'car',\n",
        "              8: 'cat',\n",
        "              9: 'chair',\n",
        "              10: 'cow',\n",
        "              11: 'diningtable',\n",
        "              12: 'dog',\n",
        "              13: 'horse',\n",
        "              14: 'motorbike',\n",
        "              15: 'person',\n",
        "              16: 'pottedplant',\n",
        "              17: 'sheep',\n",
        "              18: 'sofa',\n",
        "              19: 'train',\n",
        "              20: 'tvmonitor'}"
      ],
      "metadata": {
        "id": "LNiPG2ZNiWTx"
      },
      "execution_count": null,
      "outputs": []
    },
    {
      "cell_type": "code",
      "source": [
        "thr = 0.1 #Уровень доверия"
      ],
      "metadata": {
        "id": "uWFymO3oiWYQ"
      },
      "execution_count": null,
      "outputs": []
    },
    {
      "cell_type": "code",
      "source": [
        "net = cv2.dnn.readNetFromCaffe(prototxt, weights) #Нейросеть"
      ],
      "metadata": {
        "colab": {
          "base_uri": "https://localhost:8080/",
          "height": 165
        },
        "id": "jVBhSzAeiWbg",
        "outputId": "0caafd98-f2cf-4e4e-e1f8-26d477c813a2"
      },
      "execution_count": null,
      "outputs": [
        {
          "output_type": "error",
          "ename": "error",
          "evalue": "ignored",
          "traceback": [
            "\u001b[0;31m---------------------------------------------------------------------------\u001b[0m",
            "\u001b[0;31merror\u001b[0m                                     Traceback (most recent call last)",
            "\u001b[0;32m<ipython-input-16-776eb69d255c>\u001b[0m in \u001b[0;36m<module>\u001b[0;34m\u001b[0m\n\u001b[0;32m----> 1\u001b[0;31m \u001b[0mnet\u001b[0m \u001b[0;34m=\u001b[0m \u001b[0mcv2\u001b[0m\u001b[0;34m.\u001b[0m\u001b[0mdnn\u001b[0m\u001b[0;34m.\u001b[0m\u001b[0mreadNetFromCaffe\u001b[0m\u001b[0;34m(\u001b[0m\u001b[0mprototxt\u001b[0m\u001b[0;34m,\u001b[0m \u001b[0mweights\u001b[0m\u001b[0;34m)\u001b[0m \u001b[0;31m#Нейросеть\u001b[0m\u001b[0;34m\u001b[0m\u001b[0;34m\u001b[0m\u001b[0m\n\u001b[0m",
            "\u001b[0;31merror\u001b[0m: OpenCV(4.6.0) /io/opencv/modules/dnn/src/caffe/caffe_io.cpp:1126: error: (-2:Unspecified error) FAILED: fs.is_open(). Can't open \"MobileNetSSD_deploy.prototxt\" in function 'ReadProtoFromTextFile'\n"
          ]
        }
      ]
    },
    {
      "cell_type": "code",
      "source": [
        "cap = cv2.VideoCapture(video_path)"
      ],
      "metadata": {
        "id": "BG_6ovbeibtE"
      },
      "execution_count": null,
      "outputs": []
    },
    {
      "cell_type": "code",
      "source": [
        "%%time\n",
        "\n",
        "cap = cv2.VideoCapture(video_path)\n",
        "\n",
        "total_frame = 0\n",
        "while True:\n",
        "    success, frame = cap.read()\n",
        "    if success:\n",
        "        total_frame += 1\n",
        "    else:\n",
        "        break\n",
        "        \n",
        "\n",
        "video_length = 42 #Длительность видео в секундах\n",
        "fps = round(total_frame / video_length)\n",
        "fps"
      ],
      "metadata": {
        "colab": {
          "base_uri": "https://localhost:8080/"
        },
        "id": "yOwjumBLibvj",
        "outputId": "510cd3ba-e6ce-49b2-f0d3-3d58eb287279"
      },
      "execution_count": null,
      "outputs": [
        {
          "output_type": "stream",
          "name": "stdout",
          "text": [
            "CPU times: user 501 µs, sys: 85 µs, total: 586 µs\n",
            "Wall time: 6.13 ms\n"
          ]
        },
        {
          "output_type": "execute_result",
          "data": {
            "text/plain": [
              "0"
            ]
          },
          "metadata": {},
          "execution_count": 13
        }
      ]
    },
    {
      "cell_type": "code",
      "source": [
        "while cap.isOpened():\n",
        "\n",
        "    ret, frame = cap.read()\n",
        "    \n",
        "    if ret:\n",
        "        \n",
        "        frame = imutils.resize(frame, width=1200) #Качество кадра, влияет на быстродействие\n",
        "\n",
        "\n",
        "        #Получение участка кадра, где расположено рабочее место\n",
        "        if len(work_place) == 0:\n",
        "            cv2.putText(frame, 'Set the working place', (0, 90), cv2.FONT_HERSHEY_SIMPLEX, \n",
        "                2, (0,255,0), 2)\n",
        "            work_place = cv2.selectROI('frame', frame, fromCenter=False, showCrosshair=True)\n",
        "            x, y, w, h = [int(coord) for coord in work_place]\n",
        "            \n",
        "        #Получение даты\n",
        "        if not date:\n",
        "            try:\n",
        "                cv2.putText(frame, 'Set the client\\'s location', (0, 160), cv2.FONT_HERSHEY_SIMPLEX, \n",
        "                    2, (0,255,0), 2)\n",
        "                date = cv2.selectROI('frame', frame, fromCenter=False, showCrosshair=True)\n",
        "                date_x, date_y, date_w, date_h = [int(coord) for coord in date]\n",
        "                date_ = frame[date_y : date_y+date_h, date_x : date_x+date_w]\n",
        "                date_ = cv2.cvtColor(date_, cv2.COLOR_BGR2GRAY) #Приводим к градации серого\n",
        "                #date_ = cv2.threshold(date_, 0, 255, cv2.THRESH_BINARY + cv2.THRESH_OTSU)[1]\n",
        "                date_ = cv2.threshold(date_, 180, 255, 0)[1] #Можно менять значения для лучшего распознавания\n",
        "                date = pytesseract.image_to_string(date_)\n",
        "                date = dt.datetime.strptime(date, '%Y-%m-%d %H:%M:%S')\n",
        "                \n",
        "            except:\n",
        "                print('Распознать дату не удалось, введите дату вручную в формате ГОД-МЕСЯЦ-ДЕНЬ ЧАСЫ:МИНУТЫ:СЕКУНДЫ')\n",
        "                date_ = input()\n",
        "                date = dt.datetime.strptime(date_, '%Y-%m-%d %H:%M:%S')\n",
        "                \n",
        "\n",
        "        if cap.get(1) % fps == 0:\n",
        "            date += dt.timedelta(seconds = 1)\n",
        "        \n",
        "        if not tracked or (cap.get(1) % (fps * 30) == 0):\n",
        "\n",
        "            #Предобработка кадра\n",
        "            frame_resized = cv2.resize(frame, (300, 300)) #Подгон изображения под 300 на 300 пикс\n",
        "            blob = cv2.dnn.blobFromImage(frame_resized, 0.007843, \n",
        "                                         (300,300), (127.5, 127.5, 127.5), False)\n",
        "\n",
        "            #Прямой проход кадра по нейросети\n",
        "            net.setInput(blob)\n",
        "            detections = net.forward() \n",
        "            #[0, 0, object, [0, class_id, confidence, xLeftBottom, yLeftBottom, xRightTop, yRightTop]]\n",
        "\n",
        "            #Запоминаем размеры предобработанного кадра\n",
        "            cols = frame_resized.shape[1]\n",
        "            rows = frame_resized.shape[0]\n",
        "\n",
        "            #Детекция класса и получение его рамки исходных размеров\n",
        "            for obj in detections[0,0, :, :]:\n",
        "                confidence = obj[2]\n",
        "                if confidence > thr:\n",
        "\n",
        "                    class_id = int(obj[1])\n",
        "                    if class_id == 15:\n",
        "\n",
        "                        xLeftBottom = int(obj[3] * cols)\n",
        "                        yLeftBottom = int(obj[4] * rows)\n",
        "                        xRightTop   = int(obj[5] * cols)\n",
        "                        yRightTop   = int(obj[6] * rows)\n",
        "\n",
        "                        #Отношения размеров оригинального и сжатого кадра\n",
        "                        heightFactor = frame.shape[0] / 300.0\n",
        "                        widthFactor = frame.shape[1] / 300.0\n",
        "\n",
        "                        #Границы объекта на несжатом кадре\n",
        "                        xLeftBottom = int(widthFactor * xLeftBottom)\n",
        "                        yLeftBottom = int(heightFactor * yLeftBottom)\n",
        "                        xRightTop   = int(widthFactor * xRightTop)\n",
        "                        yRightTop   = int(heightFactor * yRightTop)\n",
        "\n",
        "                        #Нахождения центра рамки границы объекта\n",
        "                        xCenter = xLeftBottom + (xRightTop - xLeftBottom)/2\n",
        "                        yCenter = yLeftBottom + (yRightTop - yLeftBottom)/2\n",
        "\n",
        "                        #Проверка вхождения объекта в выделенную область\n",
        "                        if xCenter < x + w and yCenter < y + h and xCenter > x and yCenter > y:\n",
        "                            tracker = cv2.TrackerCSRT_create()\n",
        "                            tracker.init(frame, (xLeftBottom, yLeftBottom, xRightTop-xLeftBottom, yRightTop-yLeftBottom))\n",
        "                            tracked = True\n",
        "                            cv2.rectangle(frame, (xLeftBottom,yLeftBottom), (xRightTop,yRightTop), (0,255,0), 3, 1)\n",
        "                            break\n",
        "                        else:\n",
        "                            tracked = False\n",
        "        else:\n",
        "            _, bbox = tracker.update(frame)\n",
        "            X, Y, W, H = [int(coord) for coord in bbox]\n",
        "\n",
        "            xCenter = X + W/2\n",
        "            yCenter = Y + H/2\n",
        "            \n",
        "            if xCenter < x + w and yCenter < y + h and xCenter > x and yCenter > y:\n",
        "                \n",
        "                tracked = True\n",
        "                cv2.rectangle(frame, (X,Y), (X + W, Y + H), (255,255,0), 3, 1)\n",
        "            else:\n",
        "                tracked = False\n",
        "\n",
        "        cv2.imshow('frame', frame)\n",
        "        df.loc[cap.get(1), :] = [date, tracked]\n",
        "        print(cap.get(1), date, tracked) #Вывод номера кадра, даты и наличия/отсутствия клиента\n",
        "        if cv2.waitKey(1) == 27: #ESC\n",
        "            break\n",
        "    else:\n",
        "        break\n",
        "\n",
        "cap.release()\n",
        "cv2.destroyAllWindows()"
      ],
      "metadata": {
        "id": "4o8zHQkbibx6"
      },
      "execution_count": null,
      "outputs": []
    },
    {
      "cell_type": "code",
      "source": [
        "df_ = df.groupby('Время', as_index=False).agg(max)\n",
        "df_.to_excel('output.xlsx', index=False)"
      ],
      "metadata": {
        "id": "56-5SrTfib0F"
      },
      "execution_count": null,
      "outputs": []
    }
  ]
}